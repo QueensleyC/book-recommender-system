{
 "cells": [
  {
   "cell_type": "code",
   "execution_count": 1,
   "id": "74f03315",
   "metadata": {},
   "outputs": [],
   "source": [
    "import pandas as pd\n",
    "import matplotlib.pyplot as plt\n",
    "import numpy as np\n",
    "from sklearn.metrics.pairwise import cosine_similarity\n",
    "from sklearn.feature_extraction.text import CountVectorizer"
   ]
  },
  {
   "cell_type": "code",
   "execution_count": 2,
   "id": "498db227",
   "metadata": {},
   "outputs": [],
   "source": [
    "df = pd.read_csv(\"book ds.csv\", encoding=\"ISO-8859-1\")"
   ]
  },
  {
   "cell_type": "code",
   "execution_count": 3,
   "id": "0b8dc756",
   "metadata": {},
   "outputs": [
    {
     "name": "stdout",
     "output_type": "stream",
     "text": [
      "<class 'pandas.core.frame.DataFrame'>\n",
      "RangeIndex: 8563 entries, 0 to 8562\n",
      "Data columns (total 21 columns):\n",
      " #   Column            Non-Null Count  Dtype  \n",
      "---  ------            --------------  -----  \n",
      " 0   title             8563 non-null   object \n",
      " 1   series            4586 non-null   object \n",
      " 2   author            8563 non-null   object \n",
      " 3   rating            8563 non-null   float64\n",
      " 4   language          8563 non-null   object \n",
      " 5   isbn              8563 non-null   object \n",
      " 6   genres            8563 non-null   object \n",
      " 7   bookFormat        8554 non-null   object \n",
      " 8   edition           831 non-null    object \n",
      " 9   pages             8534 non-null   object \n",
      " 10  publisher         8563 non-null   object \n",
      " 11  publishDate       8563 non-null   object \n",
      " 12  firstPublishDate  6228 non-null   object \n",
      " 13  awards            8563 non-null   object \n",
      " 14  numRatings        8563 non-null   int64  \n",
      " 15  ratingsByStars    8563 non-null   object \n",
      " 16  likedPercent      8563 non-null   int64  \n",
      " 17  setting           8563 non-null   object \n",
      " 18  bbeScore          8563 non-null   int64  \n",
      " 19  bbeVotes          8563 non-null   int64  \n",
      " 20  price             8539 non-null   float64\n",
      "dtypes: float64(2), int64(4), object(15)\n",
      "memory usage: 1.4+ MB\n"
     ]
    }
   ],
   "source": [
    "df.info()"
   ]
  },
  {
   "cell_type": "code",
   "execution_count": 4,
   "id": "26550bd5",
   "metadata": {},
   "outputs": [],
   "source": [
    "# Drop Duplicates\n",
    "df = df.drop_duplicates()"
   ]
  },
  {
   "cell_type": "code",
   "execution_count": 5,
   "id": "1db69df2",
   "metadata": {},
   "outputs": [],
   "source": [
    "# Reset index of data frame\n",
    "df.reset_index(inplace = True)"
   ]
  },
  {
   "cell_type": "code",
   "execution_count": 8,
   "id": "94e73644",
   "metadata": {},
   "outputs": [],
   "source": [
    "# Generate an id for each book\n",
    "book_id = []\n",
    "for i in range(0, len(df)):\n",
    "    book_id.append(i)\n",
    "\n",
    "# Add book_id column to dataframe\n",
    "df[\"book_id\"] = book_id"
   ]
  },
  {
   "cell_type": "code",
   "execution_count": 9,
   "id": "dad21710",
   "metadata": {},
   "outputs": [
    {
     "data": {
      "text/html": [
       "<div>\n",
       "<style scoped>\n",
       "    .dataframe tbody tr th:only-of-type {\n",
       "        vertical-align: middle;\n",
       "    }\n",
       "\n",
       "    .dataframe tbody tr th {\n",
       "        vertical-align: top;\n",
       "    }\n",
       "\n",
       "    .dataframe thead th {\n",
       "        text-align: right;\n",
       "    }\n",
       "</style>\n",
       "<table border=\"1\" class=\"dataframe\">\n",
       "  <thead>\n",
       "    <tr style=\"text-align: right;\">\n",
       "      <th></th>\n",
       "      <th>title</th>\n",
       "      <th>author</th>\n",
       "      <th>genres</th>\n",
       "      <th>book_id</th>\n",
       "    </tr>\n",
       "  </thead>\n",
       "  <tbody>\n",
       "    <tr>\n",
       "      <th>0</th>\n",
       "      <td>The Hunger Games</td>\n",
       "      <td>Suzanne Collins</td>\n",
       "      <td>['Young Adult', 'Fiction', 'Dystopia', 'Fantas...</td>\n",
       "      <td>0</td>\n",
       "    </tr>\n",
       "    <tr>\n",
       "      <th>1</th>\n",
       "      <td>Harry Potter and the Order of the Phoenix</td>\n",
       "      <td>J.K. Rowling, Mary GrandPré (Illustrator)</td>\n",
       "      <td>['Fantasy', 'Young Adult', 'Fiction', 'Magic',...</td>\n",
       "      <td>1</td>\n",
       "    </tr>\n",
       "    <tr>\n",
       "      <th>2</th>\n",
       "      <td>Twilight</td>\n",
       "      <td>Stephenie Meyer</td>\n",
       "      <td>['Young Adult', 'Fantasy', 'Romance', 'Vampire...</td>\n",
       "      <td>2</td>\n",
       "    </tr>\n",
       "    <tr>\n",
       "      <th>3</th>\n",
       "      <td>The Book Thief</td>\n",
       "      <td>Markus Zusak (Goodreads Author)</td>\n",
       "      <td>['Historical Fiction', 'Fiction', 'Young Adult...</td>\n",
       "      <td>3</td>\n",
       "    </tr>\n",
       "    <tr>\n",
       "      <th>4</th>\n",
       "      <td>Animal Farm</td>\n",
       "      <td>George Orwell, Russell Baker (Preface), C.M. W...</td>\n",
       "      <td>['Classics', 'Fiction', 'Dystopia', 'Fantasy',...</td>\n",
       "      <td>4</td>\n",
       "    </tr>\n",
       "  </tbody>\n",
       "</table>\n",
       "</div>"
      ],
      "text/plain": [
       "                                       title  \\\n",
       "0                           The Hunger Games   \n",
       "1  Harry Potter and the Order of the Phoenix   \n",
       "2                                   Twilight   \n",
       "3                             The Book Thief   \n",
       "4                                Animal Farm   \n",
       "\n",
       "                                              author  \\\n",
       "0                                    Suzanne Collins   \n",
       "1          J.K. Rowling, Mary GrandPré (Illustrator)   \n",
       "2                                    Stephenie Meyer   \n",
       "3                    Markus Zusak (Goodreads Author)   \n",
       "4  George Orwell, Russell Baker (Preface), C.M. W...   \n",
       "\n",
       "                                              genres  book_id  \n",
       "0  ['Young Adult', 'Fiction', 'Dystopia', 'Fantas...        0  \n",
       "1  ['Fantasy', 'Young Adult', 'Fiction', 'Magic',...        1  \n",
       "2  ['Young Adult', 'Fantasy', 'Romance', 'Vampire...        2  \n",
       "3  ['Historical Fiction', 'Fiction', 'Young Adult...        3  \n",
       "4  ['Classics', 'Fiction', 'Dystopia', 'Fantasy',...        4  "
      ]
     },
     "execution_count": 9,
     "metadata": {},
     "output_type": "execute_result"
    }
   ],
   "source": [
    "df = df[[\"title\", \"author\", \"genres\", \"book_id\"]]\n",
    "df.head()"
   ]
  },
  {
   "cell_type": "code",
   "execution_count": 14,
   "id": "9bf3a717",
   "metadata": {},
   "outputs": [
    {
     "name": "stderr",
     "output_type": "stream",
     "text": [
      "C:\\Users\\Eby\\AppData\\Local\\Temp\\ipykernel_17688\\3138053015.py:2: SettingWithCopyWarning: \n",
      "A value is trying to be set on a copy of a slice from a DataFrame.\n",
      "Try using .loc[row_indexer,col_indexer] = value instead\n",
      "\n",
      "See the caveats in the documentation: https://pandas.pydata.org/pandas-docs/stable/user_guide/indexing.html#returning-a-view-versus-a-copy\n",
      "  df[\"genres\"] = df['genres'].str.strip('[]')\n"
     ]
    }
   ],
   "source": [
    "# Remove square brackets from genre column\n",
    "df[\"genres\"] = df['genres'].str.strip('[]')"
   ]
  },
  {
   "cell_type": "code",
   "execution_count": 17,
   "id": "444ccce7",
   "metadata": {},
   "outputs": [],
   "source": [
    "# Combine important columns: title and author\n",
    "def combine_features(data):\n",
    "    features = []\n",
    "    for i in range(0, data.shape[0]):\n",
    "        features.append(data[\"title\"][i] + \" \" + data[\"author\"][i])\n",
    "    return features\n",
    "    "
   ]
  },
  {
   "cell_type": "code",
   "execution_count": 18,
   "id": "a6780074",
   "metadata": {},
   "outputs": [
    {
     "name": "stderr",
     "output_type": "stream",
     "text": [
      "C:\\Users\\Eby\\AppData\\Local\\Temp\\ipykernel_17688\\374694534.py:1: SettingWithCopyWarning: \n",
      "A value is trying to be set on a copy of a slice from a DataFrame.\n",
      "Try using .loc[row_indexer,col_indexer] = value instead\n",
      "\n",
      "See the caveats in the documentation: https://pandas.pydata.org/pandas-docs/stable/user_guide/indexing.html#returning-a-view-versus-a-copy\n",
      "  df[\"combined_features\"] = combine_features(df)\n"
     ]
    }
   ],
   "source": [
    "df[\"combined_features\"] = combine_features(df)"
   ]
  },
  {
   "cell_type": "code",
   "execution_count": 19,
   "id": "3047167d",
   "metadata": {},
   "outputs": [],
   "source": [
    "# Convert text from the new column to a matrix of word counts\n",
    "cm = CountVectorizer().fit_transform(df[\"combined_features\"])"
   ]
  },
  {
   "cell_type": "code",
   "execution_count": 20,
   "id": "fbbe8bf5",
   "metadata": {},
   "outputs": [],
   "source": [
    "# Get the cosine similarity matrix from the count matrix\n",
    "cs = cosine_similarity(cm)"
   ]
  },
  {
   "cell_type": "code",
   "execution_count": 26,
   "id": "fd008a5b",
   "metadata": {},
   "outputs": [
    {
     "data": {
      "text/plain": [
       "'Where the Red Fern Grows'"
      ]
     },
     "execution_count": 26,
     "metadata": {},
     "output_type": "execute_result"
    }
   ],
   "source": [
    "# Get the title of the book the reader likes\n",
    "Title = df[\"title\"][72]\n",
    "Title"
   ]
  },
  {
   "cell_type": "code",
   "execution_count": 27,
   "id": "1922b153",
   "metadata": {},
   "outputs": [
    {
     "data": {
      "text/plain": [
       "72"
      ]
     },
     "execution_count": 27,
     "metadata": {},
     "output_type": "execute_result"
    }
   ],
   "source": [
    "# Find the book id of the book that the user likes\n",
    "book_id = df[df.title == Title][\"book_id\"].values[0]\n",
    "book_id"
   ]
  },
  {
   "cell_type": "code",
   "execution_count": 29,
   "id": "0ffa3671",
   "metadata": {},
   "outputs": [],
   "source": [
    "# Create a list of tuples in the form (book_id, similarity score)\n",
    "scores = list(enumerate(cs[book_id]))"
   ]
  },
  {
   "cell_type": "code",
   "execution_count": 30,
   "id": "76a6b429",
   "metadata": {},
   "outputs": [],
   "source": [
    "# Sort the list of similar books in descending order\n",
    "\n",
    "sorted_scores = sorted(scores, key = lambda x:x[1], reverse = True)\n",
    "sorted_scores = sorted_scores[1:]"
   ]
  },
  {
   "cell_type": "code",
   "execution_count": 31,
   "id": "c414b125",
   "metadata": {},
   "outputs": [
    {
     "name": "stdout",
     "output_type": "stream",
     "text": [
      "The 5 most recommended books to 'Where the Red Fern Grows' are:\n",
      " \n",
      "1 Summer of the Monkeys\n",
      "2 The Red and the Black\n",
      "3 The Chronoliths\n",
      "4 The Piano Lesson\n",
      "5 The Red Box\n"
     ]
    }
   ],
   "source": [
    "# Create a loop to print the first 5 books from the sorted list\n",
    "j = 0\n",
    "print(f\"The 5 most recommended books to '{Title}' are:\\n \")\n",
    "for item in sorted_scores:\n",
    "    book_title = df[df.book_id == item[0]][\"title\"].values[0]\n",
    "    print(j+1, book_title)\n",
    "    j = j+1\n",
    "    if j >= 5:\n",
    "        break"
   ]
  },
  {
   "cell_type": "code",
   "execution_count": null,
   "id": "cafef050",
   "metadata": {},
   "outputs": [],
   "source": []
  },
  {
   "cell_type": "code",
   "execution_count": null,
   "id": "b5f9300c",
   "metadata": {},
   "outputs": [],
   "source": []
  },
  {
   "cell_type": "code",
   "execution_count": null,
   "id": "2f38e517",
   "metadata": {},
   "outputs": [],
   "source": []
  }
 ],
 "metadata": {
  "kernelspec": {
   "display_name": "Python 3 (ipykernel)",
   "language": "python",
   "name": "python3"
  },
  "language_info": {
   "codemirror_mode": {
    "name": "ipython",
    "version": 3
   },
   "file_extension": ".py",
   "mimetype": "text/x-python",
   "name": "python",
   "nbconvert_exporter": "python",
   "pygments_lexer": "ipython3",
   "version": "3.10.9"
  }
 },
 "nbformat": 4,
 "nbformat_minor": 5
}
